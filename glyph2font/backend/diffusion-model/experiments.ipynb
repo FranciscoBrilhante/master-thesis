{
 "cells": [
  {
   "attachments": {},
   "cell_type": "markdown",
   "metadata": {},
   "source": [
    "# Imports"
   ]
  },
  {
   "cell_type": "code",
   "execution_count": 1,
   "metadata": {},
   "outputs": [],
   "source": [
    "import os\n",
    "from pathlib import Path\n",
    "from tqdm import tqdm\n",
    "from PIL import Image\n",
    "import random\n",
    "import numpy as np\n",
    "import string\n",
    "import matplotlib.pyplot as plot\n",
    "from scipy.stats import kstest,levene,ttest_rel, wilcoxon\n",
    "\n",
    "#pytorch modules\n",
    "import torch\n",
    "from torch import load\n",
    "from torchvision.utils import save_image\n",
    "from torchvision import transforms\n",
    "from torch.nn import MSELoss\n",
    "from ignite.metrics import SSIM\n",
    "\n",
    "#local modules\n",
    "from configs import *\n",
    "from utils import create_dirs_logs, compute_fid, compute_mse, save_list_table, draw_red_square, save_list_table\n",
    "from data.common import unfold_image, fold_image, load_image_to_tensor, attention_mask_from_font\n",
    "\n",
    "from models.diffusion_model import UNet"
   ]
  },
  {
   "attachments": {},
   "cell_type": "markdown",
   "metadata": {},
   "source": [
    "# Transform generated glyphs to complete fonts in a single image"
   ]
  },
  {
   "cell_type": "code",
   "execution_count": 3,
   "metadata": {},
   "outputs": [],
   "source": [
    "source_dir=\"/home/francisco/logs/diffusion/default_conditional/test\"\n",
    "target_dir=\"/home/francisco/logs/diffusion/default_conditional/test_flat\"\n",
    "Path(target_dir).mkdir(exist_ok=True, parents=True)\n",
    "\n",
    "fonts_list=os.listdir(os.path.join(source_dir,'0'))\n",
    "for font_name in tqdm(fonts_list):\n",
    "    font=torch.ones((1, 64, 64*26))\n",
    "    for glyph_number in range(26):\n",
    "        glyph=load_image_to_tensor(os.path.join(source_dir,str(glyph_number), font_name), unsqueeze=False, device='cpu')\n",
    "        font[0, :, glyph_number*64:(glyph_number+1)*64] = glyph\n",
    "    font=transforms.Lambda(lambda t: -t+1.)(font)\n",
    "    save_image(font,os.path.join(target_dir,font_name))\n",
    "\n"
   ]
  },
  {
   "attachments": {},
   "cell_type": "markdown",
   "metadata": {},
   "source": [
    "# Random visuals"
   ]
  },
  {
   "cell_type": "code",
   "execution_count": 6,
   "metadata": {},
   "outputs": [
    {
     "name": "stderr",
     "output_type": "stream",
     "text": [
      "100%|██████████| 1560/1560 [01:02<00:00, 24.84it/s]\n",
      "/home/francisco/miniconda3/envs/vae/lib/python3.10/site-packages/torchvision/models/_utils.py:208: UserWarning: The parameter 'pretrained' is deprecated since 0.13 and may be removed in the future, please use 'weights' instead.\n",
      "  warnings.warn(\n",
      "/home/francisco/miniconda3/envs/vae/lib/python3.10/site-packages/torchvision/models/_utils.py:223: UserWarning: Arguments other than a weight enum or `None` for 'weights' are deprecated since 0.13 and may be removed in the future. The current behavior is equivalent to passing `weights=None`.\n",
      "  warnings.warn(msg)\n",
      "100%|██████████| 25/25 [00:09<00:00,  2.52it/s]\n",
      "100%|██████████| 25/25 [00:03<00:00,  6.55it/s]\n",
      " 88%|████████▊ | 22/25 [03:19<00:46, 15.36s/it]"
     ]
    },
    {
     "name": "stderr",
     "output_type": "stream",
     "text": [
      "100%|██████████| 25/25 [03:39<00:00,  8.77s/it]\n",
      "100%|██████████| 25/25 [02:19<00:00,  5.58s/it]\n"
     ]
    }
   ],
   "source": [
    "original_dir=\"/home/francisco/dataset/capitals64/test\"\n",
    "source_dir=\"/home/francisco/logs/diffusion/default_conditional/test_flat\"\n",
    "path_table=\"/home/francisco/logs/diffusion/default_conditional/data.txt\"\n",
    "data = []\n",
    "meanMSE = 0\n",
    "meanSSIM = 0\n",
    "\n",
    "fonts_list=os.listdir(source_dir)\n",
    "for font_name in tqdm(fonts_list):\n",
    "    font_original=load_image_to_tensor(os.path.join(original_dir, font_name), unsqueeze=False, device='cuda:0')\n",
    "    font_generated=load_image_to_tensor(os.path.join(source_dir, font_name), unsqueeze=False, device='cuda:0')\n",
    "\n",
    "    mseLoss = MSELoss()\n",
    "    mse = mseLoss(font_generated, font_original).tolist()\n",
    "    meanMSE += mse\n",
    "\n",
    "    ssimLoss = SSIM(data_range=1.0)\n",
    "    ssimLoss.update((font_generated.unsqueeze(0), font_original.unsqueeze(0)))\n",
    "    ssim = ssimLoss.compute()\n",
    "    ssimLoss.reset()\n",
    "    meanSSIM += ssim\n",
    "\n",
    "    data.append([font_name[:-4], mse, ssim])\n",
    "\n",
    "fid = compute_fid(original_dir, source_dir, batch_size=64, device='cuda:0')\n",
    "data = [[meanMSE/len(fonts_list), meanSSIM/len(fonts_list), fid]]+data\n",
    "save_list_table(path_table, data)"
   ]
  },
  {
   "cell_type": "code",
   "execution_count": 9,
   "metadata": {},
   "outputs": [
    {
     "name": "stderr",
     "output_type": "stream",
     "text": [
      "100%|██████████| 14/14 [00:00<00:00, 80.92it/s]\n"
     ]
    }
   ],
   "source": [
    "target_folder='/home/francisco/dataset/capitals64/test'\n",
    "generated_folder='/home/francisco/logs/experiment2/subset_2_seed_0/test'\n",
    "second_generated_folder='/home/francisco/logs/diffusion/default_conditional/test_flat'\n",
    "\n",
    "device=\"cuda:0\"\n",
    "input_glyphs=[7, 14, 3, 18, 6, 17]\n",
    "fonts=[\n",
    "    \"47-Bold.0.0\",\n",
    "    \"1980 portable.0.0\",\n",
    "    \"Adieresis, Odieresis & Aring 2.0.0\",\n",
    "    \"advanced_led_board-7.0.0\",\n",
    "    \"Alpha54.0.0\",\n",
    "    #\"AnagramNFShadow.0.0\",\n",
    "    \"Antique Book Cover.0.0\",\n",
    "    \"ARACNE_regular_italic.0.0\",\n",
    "    \"BeautySchoolDropoutII.0.0\",\n",
    "    \"betsy flanagan.0.0\",\n",
    "    \"blackout_sunrise-webfont.0.0\",\n",
    "    \"brassknuckle.0.0\",\n",
    "    \"brick_led-7.0.0\",\n",
    "    \"computer_7.0.0\",\n",
    "    #\"Cruickshank.0.0\",\n",
    "    \"gosebmps.0.0\",\n",
    "    #Walbaum-Fraktur.0.0\",\n",
    "    #\"yonder recoil.0.0\",\n",
    "    ]\n",
    "\n",
    "fonts=[font+'.png' for font in fonts]\n",
    "\n",
    "image=torch.ones(size=(3,3,1664),device=device, requires_grad=False)\n",
    "\n",
    "for name in tqdm(fonts):\n",
    "    target=load_image_to_tensor(os.path.join(target_folder, name), unsqueeze=False, device=device)\n",
    "    target=torch.cat((target,target,target),dim=0)\n",
    "\n",
    "    for elem in input_glyphs:\n",
    "        target=draw_red_square(target,startX=0,startY=64*elem,width=64)\n",
    "    \n",
    "    generated=load_image_to_tensor(os.path.join(second_generated_folder, name), unsqueeze=False, device=device)\n",
    "    generated=torch.cat((generated,generated,generated),dim=0)\n",
    "\n",
    "    parcel=torch.cat((target,generated),dim=1)\n",
    "\n",
    "    generated=load_image_to_tensor(os.path.join(generated_folder, name), unsqueeze=False, device=device)\n",
    "    generated=torch.cat((generated,generated,generated),dim=0)\n",
    "\n",
    "    parcel=torch.cat((parcel,generated),dim=1)\n",
    "    if name!=fonts[0]:\n",
    "        image=torch.cat((image,torch.ones(size=(3,30,1664),device=device)),dim=1)\n",
    "    else:\n",
    "        image=torch.cat((image,torch.ones(size=(3,3,1664),device=device)),dim=1)\n",
    "    image=torch.cat((image,parcel),dim=1)\n",
    "\n",
    "save_image(image, f'/home/francisco/logs/diffusion/default_conditional/visuals.png')"
   ]
  },
  {
   "attachments": {},
   "cell_type": "markdown",
   "metadata": {},
   "source": [
    "# Simulate diffusion process"
   ]
  },
  {
   "cell_type": "code",
   "execution_count": null,
   "metadata": {},
   "outputs": [],
   "source": [
    "with torch.no_grad():\n",
    "    glyph_path=\"/home/francisco/diffusion-model/glyph.png\"\n",
    "\n",
    "    model = UNet(image_channels=1,n_channels=64,ch_mults=[1,2,3,4], n_blocks=2, device='cuda:0', max_beta=0.02)\n",
    "    beta= torch.linspace(0.0001, 0.02, 1000)\n",
    "    \n",
    "    for timestep in [0,200,400,600,800,999]:\n",
    "        print(beta[timestep])\n",
    "        print(timestep)\n",
    "        target=load_image_to_tensor(glyph_path,unsqueeze=True,device='cuda:0')\n",
    "        target=transforms.Lambda(lambda t: -t+1.)(target)\n",
    "        target=transforms.Lambda(lambda t: (t*2.-1.))(target)\n",
    "        t = torch.tensor([timestep], device='cuda:0')\n",
    "        noise = torch.randn_like(target)\n",
    "\n",
    "        xt = model.q_sample(target, t, eps=noise)\n",
    "        xt=transforms.Lambda(lambda t: -t+1.)(xt)\n",
    "        \n",
    "        save_image(xt,f'visual_{str(timestep)}.png')\n",
    "        torch.cuda.empty_cache()"
   ]
  }
 ],
 "metadata": {
  "kernelspec": {
   "display_name": "vae",
   "language": "python",
   "name": "python3"
  },
  "language_info": {
   "codemirror_mode": {
    "name": "ipython",
    "version": 3
   },
   "file_extension": ".py",
   "mimetype": "text/x-python",
   "name": "python",
   "nbconvert_exporter": "python",
   "pygments_lexer": "ipython3",
   "version": "3.10.8"
  },
  "orig_nbformat": 4
 },
 "nbformat": 4,
 "nbformat_minor": 2
}
