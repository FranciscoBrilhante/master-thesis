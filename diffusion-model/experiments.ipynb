{
 "cells": [
  {
   "attachments": {},
   "cell_type": "markdown",
   "metadata": {},
   "source": [
    "# Imports"
   ]
  },
  {
   "cell_type": "code",
   "execution_count": 1,
   "metadata": {},
   "outputs": [],
   "source": [
    "import os\n",
    "from pathlib import Path\n",
    "from tqdm import tqdm\n",
    "from PIL import Image\n",
    "import random\n",
    "import numpy as np\n",
    "import string\n",
    "import matplotlib.pyplot as plot\n",
    "from scipy.stats import kstest,levene,ttest_rel, wilcoxon\n",
    "\n",
    "#pytorch modules\n",
    "import torch\n",
    "from torch import load\n",
    "from torchvision.utils import save_image\n",
    "from torchvision import transforms\n",
    "from torch.nn import MSELoss\n",
    "from ignite.metrics import SSIM\n",
    "\n",
    "#local modules\n",
    "from configs import *\n",
    "from utils import create_dirs_logs, compute_fid, compute_mse, save_list_table, draw_red_square, save_list_table\n",
    "from data.common import unfold_image, fold_image, load_image_to_tensor, attention_mask_from_font\n",
    "\n",
    "from models.diffusion_model import UNet"
   ]
  },
  {
   "attachments": {},
   "cell_type": "markdown",
   "metadata": {},
   "source": [
    "# Transform generated glyphs to complete fonts in a single image"
   ]
  },
  {
   "cell_type": "code",
   "execution_count": 3,
   "metadata": {},
   "outputs": [],
   "source": [
    "source_dir=\"/home/francisco/logs/diffusion/default_conditional/test\"\n",
    "target_dir=\"/home/francisco/logs/diffusion/default_conditional/test_flat\"\n",
    "Path(target_dir).mkdir(exist_ok=True, parents=True)\n",
    "\n",
    "fonts_list=os.listdir(os.path.join(source_dir,'0'))\n",
    "for font_name in tqdm(fonts_list):\n",
    "    font=torch.ones((1, 64, 64*26))\n",
    "    for glyph_number in range(26):\n",
    "        glyph=load_image_to_tensor(os.path.join(source_dir,str(glyph_number), font_name), unsqueeze=False, device='cpu')\n",
    "        font[0, :, glyph_number*64:(glyph_number+1)*64] = glyph\n",
    "    font=transforms.Lambda(lambda t: -t+1.)(font)\n",
    "    save_image(font,os.path.join(target_dir,font_name))\n",
    "\n"
   ]
  },
  {
   "attachments": {},
   "cell_type": "markdown",
   "metadata": {},
   "source": [
    "# Random visuals"
   ]
  },
  {
   "cell_type": "code",
   "execution_count": 6,
   "metadata": {},
   "outputs": [
    {
     "name": "stderr",
     "output_type": "stream",
     "text": [
      "100%|██████████| 1560/1560 [01:02<00:00, 24.84it/s]\n",
      "/home/francisco/miniconda3/envs/vae/lib/python3.10/site-packages/torchvision/models/_utils.py:208: UserWarning: The parameter 'pretrained' is deprecated since 0.13 and may be removed in the future, please use 'weights' instead.\n",
      "  warnings.warn(\n",
      "/home/francisco/miniconda3/envs/vae/lib/python3.10/site-packages/torchvision/models/_utils.py:223: UserWarning: Arguments other than a weight enum or `None` for 'weights' are deprecated since 0.13 and may be removed in the future. The current behavior is equivalent to passing `weights=None`.\n",
      "  warnings.warn(msg)\n",
      "100%|██████████| 25/25 [00:09<00:00,  2.52it/s]\n",
      "100%|██████████| 25/25 [00:03<00:00,  6.55it/s]\n",
      " 88%|████████▊ | 22/25 [03:19<00:46, 15.36s/it]"
     ]
    },
    {
     "name": "stderr",
     "output_type": "stream",
     "text": [
      "100%|██████████| 25/25 [03:39<00:00,  8.77s/it]\n",
      "100%|██████████| 25/25 [02:19<00:00,  5.58s/it]\n"
     ]
    }
   ],
   "source": [
    "original_dir=\"/home/francisco/dataset/capitals64/test\"\n",
    "source_dir=\"/home/francisco/logs/diffusion/default_conditional/test_flat\"\n",
    "path_table=\"/home/francisco/logs/diffusion/default_conditional/data.txt\"\n",
    "data = []\n",
    "meanMSE = 0\n",
    "meanSSIM = 0\n",
    "\n",
    "fonts_list=os.listdir(source_dir)\n",
    "for font_name in tqdm(fonts_list):\n",
    "    font_original=load_image_to_tensor(os.path.join(original_dir, font_name), unsqueeze=False, device='cuda:0')\n",
    "    font_generated=load_image_to_tensor(os.path.join(source_dir, font_name), unsqueeze=False, device='cuda:0')\n",
    "\n",
    "    mseLoss = MSELoss()\n",
    "    mse = mseLoss(font_generated, font_original).tolist()\n",
    "    meanMSE += mse\n",
    "\n",
    "    ssimLoss = SSIM(data_range=1.0)\n",
    "    ssimLoss.update((font_generated.unsqueeze(0), font_original.unsqueeze(0)))\n",
    "    ssim = ssimLoss.compute()\n",
    "    ssimLoss.reset()\n",
    "    meanSSIM += ssim\n",
    "\n",
    "    data.append([font_name[:-4], mse, ssim])\n",
    "\n",
    "fid = compute_fid(original_dir, source_dir, batch_size=64, device='cuda:0')\n",
    "data = [[meanMSE/len(fonts_list), meanSSIM/len(fonts_list), fid]]+data\n",
    "save_list_table(path_table, data)"
   ]
  },
  {
   "cell_type": "code",
   "execution_count": 9,
   "metadata": {},
   "outputs": [
    {
     "name": "stderr",
     "output_type": "stream",
     "text": [
      "100%|██████████| 14/14 [00:00<00:00, 80.92it/s]\n"
     ]
    }
   ],
   "source": [
    "target_folder='/home/francisco/dataset/capitals64/test'\n",
    "generated_folder='/home/francisco/logs/experiment2/subset_2_seed_0/test'\n",
    "second_generated_folder='/home/francisco/logs/diffusion/default_conditional/test_flat'\n",
    "\n",
    "device=\"cuda:0\"\n",
    "input_glyphs=[7, 14, 3, 18, 6, 17]\n",
    "fonts=[\n",
    "    \"47-Bold.0.0\",\n",
    "    \"1980 portable.0.0\",\n",
    "    \"Adieresis, Odieresis & Aring 2.0.0\",\n",
    "    \"advanced_led_board-7.0.0\",\n",
    "    \"Alpha54.0.0\",\n",
    "    #\"AnagramNFShadow.0.0\",\n",
    "    \"Antique Book Cover.0.0\",\n",
    "    \"ARACNE_regular_italic.0.0\",\n",
    "    \"BeautySchoolDropoutII.0.0\",\n",
    "    \"betsy flanagan.0.0\",\n",
    "    \"blackout_sunrise-webfont.0.0\",\n",
    "    \"brassknuckle.0.0\",\n",
    "    \"brick_led-7.0.0\",\n",
    "    \"computer_7.0.0\",\n",
    "    #\"Cruickshank.0.0\",\n",
    "    \"gosebmps.0.0\",\n",
    "    #Walbaum-Fraktur.0.0\",\n",
    "    #\"yonder recoil.0.0\",\n",
    "    ]\n",
    "\n",
    "fonts=[font+'.png' for font in fonts]\n",
    "\n",
    "image=torch.ones(size=(3,3,1664),device=device, requires_grad=False)\n",
    "\n",
    "for name in tqdm(fonts):\n",
    "    target=load_image_to_tensor(os.path.join(target_folder, name), unsqueeze=False, device=device)\n",
    "    target=torch.cat((target,target,target),dim=0)\n",
    "\n",
    "    for elem in input_glyphs:\n",
    "        target=draw_red_square(target,startX=0,startY=64*elem,width=64)\n",
    "    \n",
    "    generated=load_image_to_tensor(os.path.join(second_generated_folder, name), unsqueeze=False, device=device)\n",
    "    generated=torch.cat((generated,generated,generated),dim=0)\n",
    "\n",
    "    parcel=torch.cat((target,generated),dim=1)\n",
    "\n",
    "    generated=load_image_to_tensor(os.path.join(generated_folder, name), unsqueeze=False, device=device)\n",
    "    generated=torch.cat((generated,generated,generated),dim=0)\n",
    "\n",
    "    parcel=torch.cat((parcel,generated),dim=1)\n",
    "    if name!=fonts[0]:\n",
    "        image=torch.cat((image,torch.ones(size=(3,30,1664),device=device)),dim=1)\n",
    "    else:\n",
    "        image=torch.cat((image,torch.ones(size=(3,3,1664),device=device)),dim=1)\n",
    "    image=torch.cat((image,parcel),dim=1)\n",
    "\n",
    "save_image(image, f'/home/francisco/logs/diffusion/default_conditional/visuals.png')"
   ]
  },
  {
   "attachments": {},
   "cell_type": "markdown",
   "metadata": {},
   "source": [
    "# Simulate diffusion process"
   ]
  },
  {
   "cell_type": "code",
   "execution_count": null,
   "metadata": {},
   "outputs": [],
   "source": [
    "with torch.no_grad():\n",
    "    glyph_path=\"/home/francisco/diffusion-model/glyph.png\"\n",
    "\n",
    "    model = UNet(image_channels=1,n_channels=64,ch_mults=[1,2,3,4], n_blocks=2, device='cuda:0', max_beta=0.02)\n",
    "    beta= torch.linspace(0.0001, 0.02, 1000)\n",
    "    \n",
    "    for timestep in [0,200,400,600,800,999]:\n",
    "        print(beta[timestep])\n",
    "        print(timestep)\n",
    "        target=load_image_to_tensor(glyph_path,unsqueeze=True,device='cuda:0')\n",
    "        target=transforms.Lambda(lambda t: -t+1.)(target)\n",
    "        target=transforms.Lambda(lambda t: (t*2.-1.))(target)\n",
    "        t = torch.tensor([timestep], device='cuda:0')\n",
    "        noise = torch.randn_like(target)\n",
    "\n",
    "        xt = model.q_sample(target, t, eps=noise)\n",
    "        xt=transforms.Lambda(lambda t: -t+1.)(xt)\n",
    "        \n",
    "        save_image(xt,f'visual_{str(timestep)}.png')\n",
    "        torch.cuda.empty_cache()"
   ]
  },
  {
   "attachments": {},
   "cell_type": "markdown",
   "metadata": {},
   "source": [
    "# Interpolation"
   ]
  },
  {
   "cell_type": "code",
   "execution_count": 5,
   "metadata": {},
   "outputs": [
    {
     "name": "stderr",
     "output_type": "stream",
     "text": [
      "21it [08:38, 24.70s/it]\n"
     ]
    }
   ],
   "source": [
    "@torch.no_grad()\n",
    "def sample(x: torch.Tensor, max_steps: int, model: UNet, content: torch.Tensor, style: torch.Tensor):\n",
    "    # Remove noise for $T$ steps\n",
    "    for t_ in range(max_steps):\n",
    "        # $t$\n",
    "        t = max_steps - t_ - 1\n",
    "        # Sample from $\\textcolor{lightgreen}{p_\\theta}(x_{t-1}|x_t)$\n",
    "        timestamps=x.new_full((x.size(0),), t, dtype=torch.long)\n",
    "        x = model.p_sample(x, timestamps , content, style)\n",
    "\n",
    "    return x\n",
    "\n",
    "#source1=\"ArbuckleInlineNF.0.0.pt\"\n",
    "source1=\"affection_ldr.0.0.pt\"\n",
    "source2=\"Alpha54.0.0.pt\"\n",
    "path_checkpoint=\"/home/francisco/logs/diffusion/default_conditional/Checkpoints/last.pt\"\n",
    "device=\"cuda:0\"\n",
    "glyph=1\n",
    "image_name=\"step1.png\"\n",
    "model = load(path_checkpoint, map_location=torch.device(device))\n",
    "model.eval()\n",
    "\n",
    "for i,weight in tqdm(enumerate(np.arange(0,1.05,0.05))):\n",
    "    content=torch.Tensor([glyph]).long().unsqueeze(0).to(device)\n",
    "\n",
    "    style_path1=os.path.join(\"/home/francisco/dataset/capitals64Features/test\",source1)\n",
    "    style1=torch.load(style_path1, map_location='cpu').unsqueeze(0).to(device)\n",
    "\n",
    "    style_path2=os.path.join(\"/home/francisco/dataset/capitals64Features/test\",source2)\n",
    "    style2=torch.load(style_path2, map_location='cpu').unsqueeze(0).to(device)\n",
    "    \n",
    "    interp_style=torch.lerp(style1,style2,weight=weight)\n",
    "\n",
    "    output=sample(torch.randn([1,1,64,64], device=device),1000,model,content, interp_style)\n",
    "    output=transforms.Lambda(lambda t: -t+1.)(output)\n",
    "    path_to_save_image = Path(os.path.join(\"/home/francisco/logs/diffusion/default_conditional/interp1\",f\"step{i}.png\"))\n",
    "    path_to_save_image.parent.mkdir(exist_ok=True, parents=True)\n",
    "    save_image(output[0], path_to_save_image)"
   ]
  },
  {
   "cell_type": "code",
   "execution_count": 5,
   "metadata": {},
   "outputs": [
    {
     "name": "stderr",
     "output_type": "stream",
     "text": [
      "1it [00:38, 38.20s/it]\n"
     ]
    },
    {
     "ename": "KeyboardInterrupt",
     "evalue": "",
     "output_type": "error",
     "traceback": [
      "\u001b[0;31m---------------------------------------------------------------------------\u001b[0m",
      "\u001b[0;31mKeyboardInterrupt\u001b[0m                         Traceback (most recent call last)",
      "Cell \u001b[0;32mIn[5], line 33\u001b[0m\n\u001b[1;32m     29\u001b[0m style2\u001b[39m=\u001b[39mtorch\u001b[39m.\u001b[39mload(style_path2, map_location\u001b[39m=\u001b[39m\u001b[39m'\u001b[39m\u001b[39mcpu\u001b[39m\u001b[39m'\u001b[39m)\u001b[39m.\u001b[39munsqueeze(\u001b[39m0\u001b[39m)\u001b[39m.\u001b[39mto(device)\n\u001b[1;32m     31\u001b[0m interp_style\u001b[39m=\u001b[39mtorch\u001b[39m.\u001b[39mlerp(style1,style2,weight\u001b[39m=\u001b[39mweight)\n\u001b[0;32m---> 33\u001b[0m output\u001b[39m=\u001b[39msample(torch\u001b[39m.\u001b[39;49mrandn([\u001b[39m1\u001b[39;49m,\u001b[39m1\u001b[39;49m,\u001b[39m64\u001b[39;49m,\u001b[39m64\u001b[39;49m], device\u001b[39m=\u001b[39;49mdevice),\u001b[39m1000\u001b[39;49m,model,content, interp_style)\n\u001b[1;32m     34\u001b[0m output\u001b[39m=\u001b[39mtransforms\u001b[39m.\u001b[39mLambda(\u001b[39mlambda\u001b[39;00m t: \u001b[39m-\u001b[39mt\u001b[39m+\u001b[39m\u001b[39m1.\u001b[39m)(output)\n\u001b[1;32m     35\u001b[0m path_to_save_image \u001b[39m=\u001b[39m Path(os\u001b[39m.\u001b[39mpath\u001b[39m.\u001b[39mjoin(\u001b[39m\"\u001b[39m\u001b[39m/home/francisco/logs/diffusion/default_conditional/interp2\u001b[39m\u001b[39m\"\u001b[39m,\u001b[39mf\u001b[39m\u001b[39m\"\u001b[39m\u001b[39mstep\u001b[39m\u001b[39m{\u001b[39;00mi\u001b[39m}\u001b[39;00m\u001b[39m.png\u001b[39m\u001b[39m\"\u001b[39m))\n",
      "File \u001b[0;32m~/miniconda3/envs/vae/lib/python3.10/site-packages/torch/autograd/grad_mode.py:27\u001b[0m, in \u001b[0;36m_DecoratorContextManager.__call__.<locals>.decorate_context\u001b[0;34m(*args, **kwargs)\u001b[0m\n\u001b[1;32m     24\u001b[0m \u001b[39m@functools\u001b[39m\u001b[39m.\u001b[39mwraps(func)\n\u001b[1;32m     25\u001b[0m \u001b[39mdef\u001b[39;00m \u001b[39mdecorate_context\u001b[39m(\u001b[39m*\u001b[39margs, \u001b[39m*\u001b[39m\u001b[39m*\u001b[39mkwargs):\n\u001b[1;32m     26\u001b[0m     \u001b[39mwith\u001b[39;00m \u001b[39mself\u001b[39m\u001b[39m.\u001b[39mclone():\n\u001b[0;32m---> 27\u001b[0m         \u001b[39mreturn\u001b[39;00m func(\u001b[39m*\u001b[39;49margs, \u001b[39m*\u001b[39;49m\u001b[39m*\u001b[39;49mkwargs)\n",
      "Cell \u001b[0;32mIn[5], line 9\u001b[0m, in \u001b[0;36msample\u001b[0;34m(x, max_steps, model, content, style)\u001b[0m\n\u001b[1;32m      7\u001b[0m     \u001b[39m# Sample from $\\textcolor{lightgreen}{p_\\theta}(x_{t-1}|x_t)$\u001b[39;00m\n\u001b[1;32m      8\u001b[0m     timestamps\u001b[39m=\u001b[39mx\u001b[39m.\u001b[39mnew_full((x\u001b[39m.\u001b[39msize(\u001b[39m0\u001b[39m),), t, dtype\u001b[39m=\u001b[39mtorch\u001b[39m.\u001b[39mlong)\n\u001b[0;32m----> 9\u001b[0m     x \u001b[39m=\u001b[39m model\u001b[39m.\u001b[39;49mp_sample(x, timestamps , content, style)\n\u001b[1;32m     11\u001b[0m \u001b[39mreturn\u001b[39;00m x\n",
      "File \u001b[0;32m~/diffusion-model/models/diffusion_model.py:418\u001b[0m, in \u001b[0;36mUNet.p_sample\u001b[0;34m(self, xt, t, content, style)\u001b[0m\n\u001b[1;32m    417\u001b[0m \u001b[39mdef\u001b[39;00m \u001b[39mp_sample\u001b[39m(\u001b[39mself\u001b[39m, xt: torch\u001b[39m.\u001b[39mTensor, t: torch\u001b[39m.\u001b[39mTensor, content: torch\u001b[39m.\u001b[39mTensor, style: torch\u001b[39m.\u001b[39mTensor):\n\u001b[0;32m--> 418\u001b[0m     eps_theta \u001b[39m=\u001b[39m \u001b[39mself\u001b[39;49m\u001b[39m.\u001b[39;49mforward(xt, t, content, style)\n\u001b[1;32m    419\u001b[0m     alpha_bar \u001b[39m=\u001b[39m \u001b[39mself\u001b[39m\u001b[39m.\u001b[39mgather(\u001b[39mself\u001b[39m\u001b[39m.\u001b[39malpha_bar, t)\n\u001b[1;32m    420\u001b[0m     alpha \u001b[39m=\u001b[39m \u001b[39mself\u001b[39m\u001b[39m.\u001b[39mgather(\u001b[39mself\u001b[39m\u001b[39m.\u001b[39malpha, t)\n",
      "File \u001b[0;32m~/diffusion-model/models/diffusion_model.py:443\u001b[0m, in \u001b[0;36mUNet.forward\u001b[0;34m(self, x, t, content, style)\u001b[0m\n\u001b[1;32m    441\u001b[0m \u001b[39m# First half of U-Net\u001b[39;00m\n\u001b[1;32m    442\u001b[0m \u001b[39mfor\u001b[39;00m m \u001b[39min\u001b[39;00m \u001b[39mself\u001b[39m\u001b[39m.\u001b[39mdown:\n\u001b[0;32m--> 443\u001b[0m     x \u001b[39m=\u001b[39m m(x, t)\n\u001b[1;32m    444\u001b[0m     h\u001b[39m.\u001b[39mappend(x)\n\u001b[1;32m    446\u001b[0m \u001b[39m# Middle (bottom)\u001b[39;00m\n",
      "File \u001b[0;32m~/miniconda3/envs/vae/lib/python3.10/site-packages/torch/nn/modules/module.py:1190\u001b[0m, in \u001b[0;36mModule._call_impl\u001b[0;34m(self, *input, **kwargs)\u001b[0m\n\u001b[1;32m   1186\u001b[0m \u001b[39m# If we don't have any hooks, we want to skip the rest of the logic in\u001b[39;00m\n\u001b[1;32m   1187\u001b[0m \u001b[39m# this function, and just call forward.\u001b[39;00m\n\u001b[1;32m   1188\u001b[0m \u001b[39mif\u001b[39;00m \u001b[39mnot\u001b[39;00m (\u001b[39mself\u001b[39m\u001b[39m.\u001b[39m_backward_hooks \u001b[39mor\u001b[39;00m \u001b[39mself\u001b[39m\u001b[39m.\u001b[39m_forward_hooks \u001b[39mor\u001b[39;00m \u001b[39mself\u001b[39m\u001b[39m.\u001b[39m_forward_pre_hooks \u001b[39mor\u001b[39;00m _global_backward_hooks\n\u001b[1;32m   1189\u001b[0m         \u001b[39mor\u001b[39;00m _global_forward_hooks \u001b[39mor\u001b[39;00m _global_forward_pre_hooks):\n\u001b[0;32m-> 1190\u001b[0m     \u001b[39mreturn\u001b[39;00m forward_call(\u001b[39m*\u001b[39;49m\u001b[39minput\u001b[39;49m, \u001b[39m*\u001b[39;49m\u001b[39m*\u001b[39;49mkwargs)\n\u001b[1;32m   1191\u001b[0m \u001b[39m# Do not call functions when jit is used\u001b[39;00m\n\u001b[1;32m   1192\u001b[0m full_backward_hooks, non_full_backward_hooks \u001b[39m=\u001b[39m [], []\n",
      "File \u001b[0;32m~/diffusion-model/models/diffusion_model.py:225\u001b[0m, in \u001b[0;36mDownBlock.forward\u001b[0;34m(self, x, t)\u001b[0m\n\u001b[1;32m    224\u001b[0m \u001b[39mdef\u001b[39;00m \u001b[39mforward\u001b[39m(\u001b[39mself\u001b[39m, x: torch\u001b[39m.\u001b[39mTensor, t: torch\u001b[39m.\u001b[39mTensor):\n\u001b[0;32m--> 225\u001b[0m     x \u001b[39m=\u001b[39m \u001b[39mself\u001b[39;49m\u001b[39m.\u001b[39;49mres(x, t)\n\u001b[1;32m    226\u001b[0m     x \u001b[39m=\u001b[39m \u001b[39mself\u001b[39m\u001b[39m.\u001b[39mattn(x)\n\u001b[1;32m    227\u001b[0m     \u001b[39mreturn\u001b[39;00m x\n",
      "File \u001b[0;32m~/miniconda3/envs/vae/lib/python3.10/site-packages/torch/nn/modules/module.py:1190\u001b[0m, in \u001b[0;36mModule._call_impl\u001b[0;34m(self, *input, **kwargs)\u001b[0m\n\u001b[1;32m   1186\u001b[0m \u001b[39m# If we don't have any hooks, we want to skip the rest of the logic in\u001b[39;00m\n\u001b[1;32m   1187\u001b[0m \u001b[39m# this function, and just call forward.\u001b[39;00m\n\u001b[1;32m   1188\u001b[0m \u001b[39mif\u001b[39;00m \u001b[39mnot\u001b[39;00m (\u001b[39mself\u001b[39m\u001b[39m.\u001b[39m_backward_hooks \u001b[39mor\u001b[39;00m \u001b[39mself\u001b[39m\u001b[39m.\u001b[39m_forward_hooks \u001b[39mor\u001b[39;00m \u001b[39mself\u001b[39m\u001b[39m.\u001b[39m_forward_pre_hooks \u001b[39mor\u001b[39;00m _global_backward_hooks\n\u001b[1;32m   1189\u001b[0m         \u001b[39mor\u001b[39;00m _global_forward_hooks \u001b[39mor\u001b[39;00m _global_forward_pre_hooks):\n\u001b[0;32m-> 1190\u001b[0m     \u001b[39mreturn\u001b[39;00m forward_call(\u001b[39m*\u001b[39;49m\u001b[39minput\u001b[39;49m, \u001b[39m*\u001b[39;49m\u001b[39m*\u001b[39;49mkwargs)\n\u001b[1;32m   1191\u001b[0m \u001b[39m# Do not call functions when jit is used\u001b[39;00m\n\u001b[1;32m   1192\u001b[0m full_backward_hooks, non_full_backward_hooks \u001b[39m=\u001b[39m [], []\n",
      "File \u001b[0;32m~/diffusion-model/models/diffusion_model.py:135\u001b[0m, in \u001b[0;36mResidualBlock.forward\u001b[0;34m(self, x, t)\u001b[0m\n\u001b[1;32m    133\u001b[0m h \u001b[39m+\u001b[39m\u001b[39m=\u001b[39m embeddings\n\u001b[1;32m    134\u001b[0m \u001b[39m# Second convolution layer\u001b[39;00m\n\u001b[0;32m--> 135\u001b[0m h \u001b[39m=\u001b[39m \u001b[39mself\u001b[39;49m\u001b[39m.\u001b[39;49mconv2(\u001b[39mself\u001b[39;49m\u001b[39m.\u001b[39;49mdropout(\u001b[39mself\u001b[39;49m\u001b[39m.\u001b[39;49mact2(\u001b[39mself\u001b[39;49m\u001b[39m.\u001b[39;49mnorm2(h))))\n\u001b[1;32m    137\u001b[0m \u001b[39m# Add the shortcut connection and return\u001b[39;00m\n\u001b[1;32m    138\u001b[0m \u001b[39mreturn\u001b[39;00m h \u001b[39m+\u001b[39m \u001b[39mself\u001b[39m\u001b[39m.\u001b[39mshortcut(x)\n",
      "File \u001b[0;32m~/miniconda3/envs/vae/lib/python3.10/site-packages/torch/nn/modules/module.py:1190\u001b[0m, in \u001b[0;36mModule._call_impl\u001b[0;34m(self, *input, **kwargs)\u001b[0m\n\u001b[1;32m   1186\u001b[0m \u001b[39m# If we don't have any hooks, we want to skip the rest of the logic in\u001b[39;00m\n\u001b[1;32m   1187\u001b[0m \u001b[39m# this function, and just call forward.\u001b[39;00m\n\u001b[1;32m   1188\u001b[0m \u001b[39mif\u001b[39;00m \u001b[39mnot\u001b[39;00m (\u001b[39mself\u001b[39m\u001b[39m.\u001b[39m_backward_hooks \u001b[39mor\u001b[39;00m \u001b[39mself\u001b[39m\u001b[39m.\u001b[39m_forward_hooks \u001b[39mor\u001b[39;00m \u001b[39mself\u001b[39m\u001b[39m.\u001b[39m_forward_pre_hooks \u001b[39mor\u001b[39;00m _global_backward_hooks\n\u001b[1;32m   1189\u001b[0m         \u001b[39mor\u001b[39;00m _global_forward_hooks \u001b[39mor\u001b[39;00m _global_forward_pre_hooks):\n\u001b[0;32m-> 1190\u001b[0m     \u001b[39mreturn\u001b[39;00m forward_call(\u001b[39m*\u001b[39;49m\u001b[39minput\u001b[39;49m, \u001b[39m*\u001b[39;49m\u001b[39m*\u001b[39;49mkwargs)\n\u001b[1;32m   1191\u001b[0m \u001b[39m# Do not call functions when jit is used\u001b[39;00m\n\u001b[1;32m   1192\u001b[0m full_backward_hooks, non_full_backward_hooks \u001b[39m=\u001b[39m [], []\n",
      "File \u001b[0;32m~/miniconda3/envs/vae/lib/python3.10/site-packages/torch/nn/modules/conv.py:463\u001b[0m, in \u001b[0;36mConv2d.forward\u001b[0;34m(self, input)\u001b[0m\n\u001b[1;32m    462\u001b[0m \u001b[39mdef\u001b[39;00m \u001b[39mforward\u001b[39m(\u001b[39mself\u001b[39m, \u001b[39minput\u001b[39m: Tensor) \u001b[39m-\u001b[39m\u001b[39m>\u001b[39m Tensor:\n\u001b[0;32m--> 463\u001b[0m     \u001b[39mreturn\u001b[39;00m \u001b[39mself\u001b[39;49m\u001b[39m.\u001b[39;49m_conv_forward(\u001b[39minput\u001b[39;49m, \u001b[39mself\u001b[39;49m\u001b[39m.\u001b[39;49mweight, \u001b[39mself\u001b[39;49m\u001b[39m.\u001b[39;49mbias)\n",
      "File \u001b[0;32m~/miniconda3/envs/vae/lib/python3.10/site-packages/torch/nn/modules/conv.py:459\u001b[0m, in \u001b[0;36mConv2d._conv_forward\u001b[0;34m(self, input, weight, bias)\u001b[0m\n\u001b[1;32m    455\u001b[0m \u001b[39mif\u001b[39;00m \u001b[39mself\u001b[39m\u001b[39m.\u001b[39mpadding_mode \u001b[39m!=\u001b[39m \u001b[39m'\u001b[39m\u001b[39mzeros\u001b[39m\u001b[39m'\u001b[39m:\n\u001b[1;32m    456\u001b[0m     \u001b[39mreturn\u001b[39;00m F\u001b[39m.\u001b[39mconv2d(F\u001b[39m.\u001b[39mpad(\u001b[39minput\u001b[39m, \u001b[39mself\u001b[39m\u001b[39m.\u001b[39m_reversed_padding_repeated_twice, mode\u001b[39m=\u001b[39m\u001b[39mself\u001b[39m\u001b[39m.\u001b[39mpadding_mode),\n\u001b[1;32m    457\u001b[0m                     weight, bias, \u001b[39mself\u001b[39m\u001b[39m.\u001b[39mstride,\n\u001b[1;32m    458\u001b[0m                     _pair(\u001b[39m0\u001b[39m), \u001b[39mself\u001b[39m\u001b[39m.\u001b[39mdilation, \u001b[39mself\u001b[39m\u001b[39m.\u001b[39mgroups)\n\u001b[0;32m--> 459\u001b[0m \u001b[39mreturn\u001b[39;00m F\u001b[39m.\u001b[39;49mconv2d(\u001b[39minput\u001b[39;49m, weight, bias, \u001b[39mself\u001b[39;49m\u001b[39m.\u001b[39;49mstride,\n\u001b[1;32m    460\u001b[0m                 \u001b[39mself\u001b[39;49m\u001b[39m.\u001b[39;49mpadding, \u001b[39mself\u001b[39;49m\u001b[39m.\u001b[39;49mdilation, \u001b[39mself\u001b[39;49m\u001b[39m.\u001b[39;49mgroups)\n",
      "\u001b[0;31mKeyboardInterrupt\u001b[0m: "
     ]
    }
   ],
   "source": [
    "@torch.no_grad()\n",
    "def sample(x: torch.Tensor, max_steps: int, model: UNet, content: torch.Tensor, style: torch.Tensor):\n",
    "    # Remove noise for $T$ steps\n",
    "    for t_ in range(max_steps):\n",
    "        # $t$\n",
    "        t = max_steps - t_ - 1\n",
    "        # Sample from $\\textcolor{lightgreen}{p_\\theta}(x_{t-1}|x_t)$\n",
    "        timestamps=x.new_full((x.size(0),), t, dtype=torch.long)\n",
    "        x = model.p_sample(x, timestamps , content, style)\n",
    "\n",
    "    return x\n",
    "\n",
    "source1=\"aramisi.0.0.pt\"\n",
    "source2=\"Bauchaomaicha.0.0.pt\"\n",
    "path_checkpoint=\"/home/francisco/logs/diffusion/default_conditional/Checkpoints/last.pt\"\n",
    "device=\"cuda:0\"\n",
    "glyph=1\n",
    "image_name=\"step1.png\"\n",
    "model = load(path_checkpoint, map_location=torch.device(device))\n",
    "model.eval()\n",
    "\n",
    "for i,weight in tqdm(enumerate(np.arange(0,1.05,0.05))):\n",
    "    content=torch.Tensor([glyph]).long().unsqueeze(0).to(device)\n",
    "\n",
    "    style_path1=os.path.join(\"/home/francisco/dataset/capitals64Features/test\",source1)\n",
    "    style1=torch.load(style_path1, map_location='cpu').unsqueeze(0).to(device)\n",
    "\n",
    "    style_path2=os.path.join(\"/home/francisco/dataset/capitals64Features/test\",source2)\n",
    "    style2=torch.load(style_path2, map_location='cpu').unsqueeze(0).to(device)\n",
    "    \n",
    "    interp_style=torch.lerp(style1,style2,weight=weight)\n",
    "\n",
    "    output=sample(torch.randn([1,1,64,64], device=device),1000,model,content, interp_style)\n",
    "    output=transforms.Lambda(lambda t: -t+1.)(output)\n",
    "    path_to_save_image = Path(os.path.join(\"/home/francisco/logs/diffusion/default_conditional/interp2\",f\"step{i}.png\"))\n",
    "    path_to_save_image.parent.mkdir(exist_ok=True, parents=True)\n",
    "    save_image(output[0], path_to_save_image)"
   ]
  },
  {
   "attachments": {},
   "cell_type": "markdown",
   "metadata": {},
   "source": [
    "# Dataset Experiment"
   ]
  },
  {
   "cell_type": "code",
   "execution_count": 3,
   "metadata": {},
   "outputs": [
    {
     "name": "stderr",
     "output_type": "stream",
     "text": [
      "No artists with labels found to put in legend.  Note that artists whose label start with an underscore are ignored when legend() is called with no argument.\n",
      "No artists with labels found to put in legend.  Note that artists whose label start with an underscore are ignored when legend() is called with no argument.\n",
      "No artists with labels found to put in legend.  Note that artists whose label start with an underscore are ignored when legend() is called with no argument.\n"
     ]
    },
    {
     "data": {
      "image/png": "[encoded data removed]",
      "text/plain": [
       "<Figure size 2000x400 with 3 Axes>"
      ]
     },
     "metadata": {},
     "output_type": "display_data"
    }
   ],
   "source": [
    "values={'mse':{'1':[],'2':[]}, 'fid':{'1':[],'2':[]}, 'ssim':{'1':[],'2':[]} }\n",
    "\n",
    "for model in ['1','2']:\n",
    "        for seed in range(0,15):\n",
    "            file=open(f\"/home/francisco/logs/experiment4/var{model}_seed_{seed}/data.txt\")\n",
    "            lines=file.readlines()\n",
    "            mse,ssim,fid= lines[0].strip().split()\n",
    "            values['fid'][model]+=[float(fid)]\n",
    "            values['mse'][model]+=[float(mse)]\n",
    "            values['ssim'][model]+=[float(ssim)]\n",
    "\n",
    "\n",
    "scatter_x_mse=[1 for i in range(15)]+ [2 for i in range(15)]\n",
    "scatter_y_mse=values['mse']['1'] + values['mse']['2']\n",
    "\n",
    "scatter_x_ssim=[1 for i in range(15)]+ [2 for i in range(15)]\n",
    "scatter_y_ssim=values['ssim']['1'] + values['ssim']['2']\n",
    "\n",
    "scatter_x_fid=[1 for i in range(15)]+ [2 for i in range(15)]\n",
    "scatter_y_fid=values['fid']['1'] + values['fid']['2']\n",
    "\n",
    "fig, (ax1, ax2,ax3) = plot.subplots(1, 3,figsize = (20,4))\n",
    "fig.suptitle('Inpact of input subset choice on model performance')\n",
    "\n",
    "ax1.scatter(x=scatter_x_mse,y=scatter_y_mse)\n",
    "ax2.scatter(x=scatter_x_ssim,y=scatter_y_ssim)\n",
    "ax3.scatter(x=scatter_x_fid,y=scatter_y_fid)\n",
    "\n",
    "ax1.set_xticks([1,2], ['susbet 1', 'subset 2'])\n",
    "ax2.set_xticks([1,2], ['susbet 1', 'subset 2'])\n",
    "ax3.set_xticks([1,2], ['susbet 1', 'subset 2'])\n",
    "\n",
    "ax1.set_xlabel('input subset')\n",
    "ax1.set_ylabel('MSE')\n",
    "ax1.set_ylim([0,0.1])\n",
    "\n",
    "ax2.set_xlabel('input subset')\n",
    "ax2.set_ylabel('SSIM')\n",
    "ax2.set_ylim([0,0.8])\n",
    "\n",
    "\n",
    "ax3.set_xlabel('input subset')\n",
    "ax3.set_ylabel('FID')\n",
    "ax3.set_ylim([0,15])\n",
    "\n",
    "ax1.legend()\n",
    "ax2.legend()\n",
    "ax3.legend()\n",
    "plot.show()"
   ]
  },
  {
   "cell_type": "code",
   "execution_count": 4,
   "metadata": {},
   "outputs": [
    {
     "name": "stdout",
     "output_type": "stream",
     "text": [
      "0 & 0.0586 & 6.4726 & 0.7377 & 0.059 & 6.7706 & 0.736\\\\\n",
      "1 & 0.0586 & 6.5201 & 0.7376 & 0.06 & 6.9277 & 0.7263\\\\\n",
      "2 & 0.0584 & 6.3874 & 0.7392 & 0.0589 & 6.811 & 0.7358\\\\\n",
      "3 & 0.0613 & 6.774 & 0.7224 & 0.0608 & 7.1951 & 0.7252\\\\\n",
      "4 & 0.0586 & 6.3274 & 0.7373 & 0.0603 & 7.3632 & 0.7262\\\\\n",
      "5 & 0.0586 & 6.311 & 0.7387 & 0.0611 & 7.5283 & 0.7226\\\\\n",
      "6 & 0.0585 & 6.5253 & 0.7372 & 0.0608 & 7.117 & 0.7248\\\\\n",
      "7 & 0.0585 & 6.5246 & 0.739 & 0.061 & 7.6132 & 0.7211\\\\\n",
      "8 & 0.0587 & 6.3714 & 0.7371 & 0.0605 & 7.0646 & 0.7273\\\\\n",
      "9 & 0.0586 & 6.4264 & 0.7377 & 0.0606 & 7.129 & 0.7242\\\\\n",
      "10 & 0.0587 & 6.4417 & 0.7372 & 0.0597 & 6.8921 & 0.7325\\\\\n",
      "11 & 0.0608 & 6.8856 & 0.7252 & 0.0593 & 7.034 & 0.7338\\\\\n",
      "12 & 0.0584 & 6.3877 & 0.7383 & 0.0605 & 7.1712 & 0.7253\\\\\n",
      "13 & 0.059 & 6.3867 & 0.7364 & 0.061 & 7.313 & 0.7256\\\\\n",
      "14 & 0.0585 & 6.5104 & 0.7376 & 0.0607 & 7.2558 & 0.7269\\\\\n",
      "0.0589 & 6.4835 & 0.7359 & 0.0603 & 7.1457 & 0.7276\n",
      "0.0009 & 0.153 & 0.0048 & 0.0007 & 0.2367 & 0.0045\n"
     ]
    }
   ],
   "source": [
    "values={'mse':{'1':[],'2':[]}, 'fid':{'1':[],'2':[]}, 'ssim':{'1':[],'2':[]} }\n",
    "round_value=4\n",
    "for model in ['1','2']:\n",
    "        for seed in range(0,15):\n",
    "            file=open(f\"/home/francisco/logs/experiment4/var{model}_seed_{seed}/data.txt\")\n",
    "            lines=file.readlines()\n",
    "            mse,ssim,fid= lines[0].strip().split()\n",
    "            values['fid'][model]+=[float(fid)]\n",
    "            values['mse'][model]+=[float(mse)]\n",
    "            values['ssim'][model]+=[float(ssim)]\n",
    "\n",
    "for seed in range(0,15):\n",
    "    print(f\"{seed} & {round(values['mse']['1'][seed],round_value)} & {round(values['fid']['1'][seed],round_value)} & {round(values['ssim']['1'][seed],round_value)} & {round(values['mse']['2'][seed],round_value)} & {round(values['fid']['2'][seed],round_value)} & {round(values['ssim']['2'][seed],round_value)}\\\\\\\\\")\n",
    "\n",
    "print(f\"{np.round(np.mean(np.array(values['mse']['1'])),round_value)} & {np.round(np.mean(np.array(values['fid']['1'])),round_value)} & {np.round(np.mean(np.array(values['ssim']['1'])),round_value)} & {np.round(np.mean(np.array(values['mse']['2'])),round_value)} & {np.round(np.mean(np.array(values['fid']['2'])),round_value)} & {np.round(np.mean(np.array(values['ssim']['2'])),round_value)}\")  \n",
    "print(f\"{np.round(np.std(np.array(values['mse']['1'])),round_value)} & {np.round(np.std(np.array(values['fid']['1'])),round_value)} & {np.round(np.std(np.array(values['ssim']['1'])),round_value)} & {np.round(np.std(np.array(values['mse']['2'])),round_value)} & {np.round(np.std(np.array(values['fid']['2'])),round_value)} & {np.round(np.std(np.array(values['ssim']['2'])),round_value)}\")      "
   ]
  },
  {
   "cell_type": "code",
   "execution_count": 2,
   "metadata": {},
   "outputs": [
    {
     "name": "stdout",
     "output_type": "stream",
     "text": [
      "loaded model\n"
     ]
    },
    {
     "name": "stderr",
     "output_type": "stream",
     "text": [
      "  0%|          | 0/26 [00:00<?, ?it/s]"
     ]
    }
   ],
   "source": [
    "@torch.no_grad()\n",
    "def sample(x: torch.Tensor, max_steps: int, model: torch.nn.Module, content: torch.Tensor, style: torch.Tensor):\n",
    "    # Remove noise for $T$ steps\n",
    "    for t_ in range(max_steps):\n",
    "        # $t$\n",
    "        t = max_steps - t_ - 1\n",
    "        # Sample from $\\textcolor{lightgreen}{p_\\theta}(x_{t-1}|x_t)$\n",
    "        timestamps=x.new_full((x.size(0),), t, dtype=torch.long)\n",
    "        x = model.p_sample(x, timestamps , content, style)\n",
    "\n",
    "    return x\n",
    "\n",
    "#/home/francisco/dataset/capitals64/test/Alpha54.0.0.png\n",
    "source1=\"/home/francisco/dataset/capitals64/test/Antique Book Cover.0.0.png\"\n",
    "source2=\"../dataset/capitals64Features/test/Antique Book Cover.0.0.pt\"\n",
    "path_checkpoint=\"../logs/diffusion/default_conditional/Checkpoints/last.pt\"\n",
    "device=\"cuda:0\"\n",
    "\n",
    "model = load(path_checkpoint, map_location=torch.device(device))\n",
    "model.eval()\n",
    "print(\"loaded model\")\n",
    "\n",
    "final=torch.ones((1, 64, 1664)).to(device)\n",
    "for glyph in tqdm(range(26)):\n",
    "    content=torch.Tensor([glyph]).long().unsqueeze(0).to(device)\n",
    "\n",
    "    style=torch.load(source2, map_location=device).unsqueeze(0).to(device)\n",
    "    output=sample(torch.randn([1,1,64,64], device=device),1000,model,content, style)\n",
    "    output=transforms.Lambda(lambda t: -t+1.)(output)\n",
    "    final[0, :, glyph*64:(glyph+1)*64] = output\n",
    "path_to_save_image = Path(os.path.join(f\"test1.png\"))\n",
    "path_to_save_image.parent.mkdir(exist_ok=True, parents=True)\n",
    "save_image(final, path_to_save_image)"
   ]
  }
 ],
 "metadata": {
  "kernelspec": {
   "display_name": "vae",
   "language": "python",
   "name": "python3"
  },
  "language_info": {
   "codemirror_mode": {
    "name": "ipython",
    "version": 3
   },
   "file_extension": ".py",
   "mimetype": "text/x-python",
   "name": "python",
   "nbconvert_exporter": "python",
   "pygments_lexer": "ipython3",
   "version": "3.10.8"
  },
  "orig_nbformat": 4
 },
 "nbformat": 4,
 "nbformat_minor": 2
}
